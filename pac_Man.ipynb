{
 "nbformat": 4,
 "nbformat_minor": 0,
 "metadata": {
  "colab": {
   "provenance": []
  },
  "kernelspec": {
   "name": "python3",
   "language": "python",
   "display_name": "Python 3 (ipykernel)"
  },
  "language_info": {
   "name": "python"
  }
 },
 "cells": [
  {
   "cell_type": "code",
   "execution_count": 1,
   "metadata": {
    "id": "jo96Wypng0yw",
    "ExecuteTime": {
     "end_time": "2024-04-05T13:30:23.509634Z",
     "start_time": "2024-04-05T13:30:21.984869Z"
    }
   },
   "outputs": [],
   "source": [
    "# librareis\n",
    "import numpy as np\n",
    "import random"
   ]
  },
  {
   "cell_type": "code",
   "source": [
    "# -------------------------------------------------------input Demo that i have wrte on to the file by manual method-----------\n",
    "\n",
    "# f=open(\"demofile.txt\",\"a\")\n",
    "# f.close()\n",
    "# f=open(\"demofile.txt\",\"r+\")\n",
    "# f.truncate(0)\n",
    "\n",
    "\n",
    "# f.write('6,10\\n')\n",
    "# f.write('3,2\\n')\n",
    "# f.write('')\n",
    "# f.write('**********\\n')\n",
    "# f.write('*--------*\\n')\n",
    "# f.write('*--***---*\\n')\n",
    "# f.write('*-a---f--*\\n')\n",
    "# f.write('*-*--*---*\\n')\n",
    "# f.write('**********')\n",
    "# input real\n",
    "# f=open(\"demofile.txt\",\"r+\")"
   ],
   "metadata": {
    "id": "QydFEix_wgV7",
    "ExecuteTime": {
     "end_time": "2024-04-05T13:30:23.527544Z",
     "start_time": "2024-04-05T13:30:23.521590Z"
    }
   },
   "execution_count": 2,
   "outputs": []
  },
  {
   "cell_type": "code",
   "outputs": [
    {
     "name": "stdout",
     "output_type": "stream",
     "text": [
      "now you can create random map by m and n that you enter them as size of map(m*n):\n",
      "\n",
      "--> enter the m(max_num of rows):\n",
      "-->enter the n(max_num of cols):\n"
     ]
    }
   ],
   "source": [
    "# ----------------------------------------------------------->create RANDOM_MAP\n",
    "def generate_map(m, n):\n",
    "    # ----------------------Define characters for terrain and objects\n",
    "    terrain_chars = ['-', '*']\n",
    "    object_chars = ['a', 'f']\n",
    "\n",
    "    # ----------------------Generate empty map\n",
    "    map_data = [['-' for _ in range(n)] for _ in range(m)]\n",
    "\n",
    "    # ----------------------Place walls around the perimeter\n",
    "    for i in range(m):\n",
    "        for j in range(n):\n",
    "            if i == 0 or i == m - 1 or j == 0 or j == n - 1:\n",
    "                map_data[i][j] = '*'\n",
    "\n",
    "    # ----------------------Place random walls within the houses\n",
    "    for i in range(1, m - 1):\n",
    "        for j in range(1, n - 1):\n",
    "            if map_data[i][j] == '-':\n",
    "                if random.random() < 0.2:  # Adjust the probability as needed\n",
    "                    map_data[i][j] = '*'\n",
    "\n",
    "    # -----------------------Place objects on the map\n",
    "    for char in object_chars:\n",
    "        while True:\n",
    "            row = random.randint(1, m - 2)\n",
    "            col = random.randint(1, n - 2)\n",
    "            if map_data[row][col] == '-':\n",
    "                map_data[row][col] = char\n",
    "                break\n",
    "\n",
    "    return map_data\n",
    "    # -----------------find positions of current_agent_position'\n",
    "def find_character_position(map_data, character):\n",
    "    for i, row in enumerate(map_data):\n",
    "        for j, char in enumerate(row):\n",
    "            if char == character:\n",
    "                return i, j\n",
    "    return None, None\n",
    "f=open(\"demofile.txt\",\"a\")\n",
    "f.truncate(0)\n",
    "f.close()\n",
    "def write_map_to_file(map_data, filename):\n",
    "    with open(filename, \"r+\") as f:\n",
    "        f.write(f'{len(map_data)},{len(map_data[0])}\\n')\n",
    "        a_row,a_col = find_character_position(map_data,'a')\n",
    "        f.write(f'{a_row},{a_col}\\n')\n",
    "        f.write('\\n')\n",
    "        count=0\n",
    "        for row in map_data:\n",
    "            count+=1\n",
    "            if count!=len(map_data):\n",
    "              f.write(''.join(row) + '\\n')\n",
    "            else:\n",
    "              f.write(''.join(row))\n",
    "            # f.write(''.join(row) + '\\n')\n",
    "\n",
    "# Example usage:\n",
    "print(\"now you can create random map by m and n that you enter them as size of map(m*n):\\n\")\n",
    "print(\"--> enter the m(max_num of rows):\")\n",
    "m = input()\n",
    "print(\"-->enter the n(max_num of cols):\")\n",
    "n = input()\n",
    "m=int(m)\n",
    "n=int(n)\n",
    "map_data = generate_map(m, n)\n",
    "write_map_to_file(map_data, \"demofile.txt\")\n",
    "f.close()"
   ],
   "metadata": {
    "id": "90Afk06sYxUX",
    "colab": {
     "base_uri": "https://localhost:8080/"
    },
    "outputId": "897e8ded-adad-4cda-9b00-7f69d584592a",
    "ExecuteTime": {
     "end_time": "2024-04-05T13:30:28.396772Z",
     "start_time": "2024-04-05T13:30:23.530532Z"
    }
   },
   "execution_count": 3
  },
  {
   "cell_type": "code",
   "outputs": [],
   "source": [
    "# ------------------------------------------------>REDING DATA FROM FILE\n",
    "Temporary_list=[]\n",
    "new=[]\n",
    "original_list=[]\n",
    "f=open(\"demofile.txt\",\"r+\")\n",
    "def reading_map_from_file(f,Temporary_list,new,original_list):\n",
    "  f.seek(0)\n",
    "  m,n=(f.readline()).split(',')\n",
    "  a,b=(f.readline()).split(',')\n",
    "  f.seek(f.tell()+1)\n",
    "  Temporary_list=f.readlines()\n",
    "  m=int(m)\n",
    "  n=int(n)\n",
    "  a=int(a)\n",
    "  b=int(b)\n",
    "  count=0\n",
    "  for line in Temporary_list:\n",
    "    if count==0:\n",
    "        count+=1\n",
    "        continue\n",
    "    original_list.append(list(line.replace('\\n','')))\n",
    "            \n",
    "  return m,n,a,b\n",
    "# ----------------------------------------\n",
    "m,n,a,b=reading_map_from_file(f,Temporary_list,new,original_list)\n",
    "# print(original_list)\n",
    "f.close()"
   ],
   "metadata": {
    "id": "3u_7ia0zhQeV",
    "colab": {
     "base_uri": "https://localhost:8080/"
    },
    "outputId": "5975d435-5eeb-4292-ce9e-599f6ecb3a8a",
    "ExecuteTime": {
     "end_time": "2024-04-05T13:30:28.414181Z",
     "start_time": "2024-04-05T13:30:28.398770Z"
    }
   },
   "execution_count": 4
  },
  {
   "cell_type": "code",
   "source": [
    "# Global percept\n",
    "# status: empty(-) or block(*) or food(*)\n",
    "# -------------------------------------------->the shortest path\n",
    "path=[]\n",
    "percept=[]\n",
    "statusPos=[]\n",
    "# ----------------------->declare historyOfPercept\n",
    "historyOfPercepts=[]\n",
    "# start_position-----> [a,b]\n",
    "statusPos.append(a)\n",
    "statusPos.append(b)\n",
    "# ---------------------->perept[] declare and  initialize\n",
    "status_shortest_Pos=[]\n",
    "percept.append(a)\n",
    "percept.append(b)\n",
    "percept.append('-')\n",
    "historyOfPercepts.append(percept)\n",
    "\n",
    "# -------------------->declare action\n",
    "actions=[]\n",
    "combine=[]\n",
    "count_short=[]\n",
    "# ---------------------------------------\n",
    "# print(statusPos)"
   ],
   "metadata": {
    "id": "msk0KqhUT239",
    "colab": {
     "base_uri": "https://localhost:8080/"
    },
    "outputId": "54beb1a1-86b3-4ca6-ed25-14baa359eed3",
    "ExecuteTime": {
     "end_time": "2024-04-05T13:30:28.423283Z",
     "start_time": "2024-04-05T13:30:28.416178Z"
    }
   },
   "execution_count": 5,
   "outputs": []
  },
  {
   "cell_type": "code",
   "source": [
    "# percept=[x_pos,y_pos,status]\n",
    "# ---------------------->this function is for block status and is private access\n",
    "def setblockstatus(actions):\n",
    "  randomActions=0\n",
    "  if actions[-1]==1 or actions[-1]==3:\n",
    "     if(actions[-1]==1):\n",
    "      randomActions=3\n",
    "     else:\n",
    "      randomActions=1\n",
    "  else:\n",
    "       if actions[-1]==2:\n",
    "         randomActions=4\n",
    "       else:\n",
    "         randomActions=2\n",
    "  return randomActions\n",
    "\n",
    "# ------------------------------------------------>the Agent function\n",
    "def agent(percept):\n",
    "  randomAction=0\n",
    "  if percept[2]=='a':\n",
    "     percept[2]='-'\n",
    "  if percept[2]=='f':\n",
    "    return 20  #---------------------------->this number is my random selected numer that i selecte so we can set each all number or string or character choosed for this\n",
    "  elif percept[2]=='*':\n",
    "    randomAction=setblockstatus(actions)\n",
    "  else:\n",
    "    randomAction=random.randint(1,4)\n",
    "  actions.append(randomAction)\n",
    "  return randomAction\n"
   ],
   "metadata": {
    "id": "w4DasI0KiOvM",
    "ExecuteTime": {
     "end_time": "2024-04-05T13:30:28.436552Z",
     "start_time": "2024-04-05T13:30:28.425295Z"
    }
   },
   "execution_count": 6,
   "outputs": []
  },
  {
   "cell_type": "code",
   "source": [
    "# action :1-> up | 3-> down  |   4-> left  |  2-> right\n",
    "# Enviroment\n",
    "def setStatusPosition(action):\n",
    "  x=statusPos[0]\n",
    "  y=statusPos[1]\n",
    "  if action==1:\n",
    "    statusPos[0]=x-1\n",
    "  elif action==3:\n",
    "    statusPos[0]=x+1\n",
    "  elif action==2:\n",
    "    statusPos[1]=y+1\n",
    "  elif action==4:\n",
    "    statusPos[1]=y-1\n",
    "\n",
    "# -------------------------------------the enviroment funciton--------------\n",
    "\n",
    "def enviroment(action):\n",
    "  setStatusPosition(action)\n",
    "  current_situation=original_list[statusPos[0]][statusPos[1]]\n",
    "  current_percept=[statusPos[0],statusPos[1],current_situation]\n",
    "  historyOfPercepts.append(current_percept)\n",
    "  return current_percept"
   ],
   "metadata": {
    "id": "eLDSx73hofKZ",
    "ExecuteTime": {
     "end_time": "2024-04-05T13:30:28.448361Z",
     "start_time": "2024-04-05T13:30:28.438552Z"
    }
   },
   "execution_count": 7,
   "outputs": []
  },
  {
   "cell_type": "code",
   "source": [
    "# section one: in this sections the agent find path  by the way in partial obsarvable\n",
    "\n",
    "# -----------------------declare output_List in standard form\n",
    "\n",
    "def combine_actions_and_percepts():\n",
    "  path_with_location=[]\n",
    "  location=()\n",
    "  for i in range(len(historyOfPercepts)):\n",
    "    location=(historyOfPercepts[i][0],historyOfPercepts[i][1])\n",
    "    path_with_location.append(location)\n",
    "    if i<=len(historyOfPercepts)-2:\n",
    "      path_with_location.append(actions[i])\n",
    "  return path_with_location\n",
    "\n",
    "\n",
    "def find_food_path():\n",
    "    act=agent(percept)\n",
    "    while(act!=20):\n",
    "      per_cept=enviroment(act)\n",
    "      act=agent(per_cept)\n",
    "    # print(historyOfPercepts)\n",
    "    # print(actions)\n",
    "    return combine_actions_and_percepts()\n",
    "\n",
    "\n"
   ],
   "metadata": {
    "id": "SUuOrqiCkYLb",
    "ExecuteTime": {
     "end_time": "2024-04-05T13:30:28.461022Z",
     "start_time": "2024-04-05T13:30:28.450358Z"
    }
   },
   "execution_count": 8,
   "outputs": []
  },
  {
   "cell_type": "code",
   "source": [
    "def count_number_of_Step(actions):\n",
    "     return len(actions)-1"
   ],
   "metadata": {
    "id": "_JSDGTlIrSJW",
    "ExecuteTime": {
     "end_time": "2024-04-05T13:30:28.472435Z",
     "start_time": "2024-04-05T13:30:28.463014Z"
    }
   },
   "execution_count": 9,
   "outputs": []
  },
  {
   "cell_type": "code",
   "source": [
    "# /---------------------------------------IDS searching method to solve problem----------------------------\n",
    "# hint:\n",
    "def get_neighbors(node, map):\n",
    "    neighbors = []\n",
    "    row, col = node\n",
    "    for dr, dc in [(0, 1), (1, 0), (0, -1), (-1, 0)]:\n",
    "        new_row, new_col = row + dr, col + dc\n",
    "        if 0 <= new_row < len(map) and 0 <= new_col < len(map[0]) and map[new_row][new_col] != '*':\n",
    "            neighbors.append((new_row, new_col))\n",
    "    return neighbors\n",
    "\n",
    "def dls_shortest_path(map, start, goal, depth):\n",
    "    if start == goal:\n",
    "        return [start]\n",
    "    if depth == 0:\n",
    "        return None\n",
    "    for neighbor in get_neighbors(start, map):\n",
    "        result = dls_shortest_path(map, neighbor, goal, depth - 1)\n",
    "        if result is not None:\n",
    "            return [start] + result\n",
    "    return None\n",
    "\n",
    "def ids_shortest_path(map, start, goal):\n",
    "    depth = 0\n",
    "    while True:\n",
    "        result = dls_shortest_path(map, start, goal, depth)\n",
    "        if result is not None:\n",
    "            return result\n",
    "        depth += 1\n",
    "# ------------------------------------------>Considering that the agent has traveled the path and finally reached the food،\n",
    "#                                                                                  it has saved its starting and ending position in the list of its perceptions\n",
    "\n",
    "def find_start_and_goal(map):\n",
    "    find_pos=[]\n",
    "    find_pos.extend(combine_actions_and_percepts())\n",
    "    start=find_pos[0]#location of start(agent)\n",
    "    goal=find_pos[len(find_pos)-1]#location of Foo(goal)\n",
    "    return start, goal\n",
    "\n",
    "\n",
    "\n",
    "def update_map_with_path(map, path):\n",
    "    for i in range(len(path)):\n",
    "      row, col = path[i]\n",
    "      if i==len(path)-1:\n",
    "        map[row][col]='f'\n",
    "      else:\n",
    "        map[row][col]='-'\n",
    "    return map\n",
    "\n",
    "# ------------------------------------\n",
    "def initialize(map):\n",
    "  for i in range(1,len(map)-1):\n",
    "    for j in range(1,len(map[i])-1):\n",
    "      map[i][j]='?'\n",
    "  return map\n",
    "\n",
    "# ------------->print map With the ability have memory\n",
    "def print_map(map):\n",
    "    for row in map:\n",
    "        print(''.join(row))\n",
    "\n",
    "\n",
    "def apply_sequence_of_movements(map, sequence_of_movements,initialize_map,start):\n",
    "    s=list(start)\n",
    "    for move in sequence_of_movements:\n",
    "        if map[s[0]][s[1]] == '-':\n",
    "          initialize_map[s[0]][s[1]] = '-'\n",
    "        elif map[s[0]][s[1]] == '*':\n",
    "          initialize_map[s[0]][s[1]] = '*'\n",
    "        elif map[s[0]][s[1]] == 'a':\n",
    "          initialize_map[s[0]][s[1]] = '-'\n",
    "        else:\n",
    "          initialize_map[s[0]][s[1]] = 'f'\n",
    "        change_pos(move,s)\n",
    "\n",
    "    return initialize_map\n",
    "\n",
    "def change_pos(move,current_location):\n",
    "        if   move == 2:\n",
    "            current_location[1]+=1\n",
    "        elif move == 4:\n",
    "            current_location[1]-=1\n",
    "        elif move == 1:\n",
    "            current_location[0]-=1\n",
    "        else:\n",
    "          current_location[0] +=1\n",
    "        return current_location\n",
    "# this folowing two methods print (optimal_path with action)/////////////////////////////\n",
    "\n",
    "def the_shortest_path(path):\n",
    "  str_P_N=\"\"\n",
    "  k=0\n",
    "  sh_p=[]\n",
    "  sh_p.extend(shortest_pathAction(path))\n",
    "  for pointPosition in path:\n",
    "    combine.append(pointPosition)\n",
    "    if(k<len(path)-1):\n",
    "      combine.append(sh_p[k])\n",
    "      k+=1\n",
    "    str_P_N+=str(pointPosition)+f'-->'\n",
    "  # print(f\"the number of step to find shortest path :\\n{count_number_of_Step(path)}\")\n",
    "  count_short.append(count_number_of_Step(path))\n",
    "  # print(f'the short path is :')\n",
    "  #  {str_P_N[:len(str_P_N)-3]}\n",
    "  # print(combine)\n",
    "\n",
    "\n",
    "def shortest_pathAction(path):\n",
    "  short_actions=[]\n",
    "  for i in range(1,len(path)):\n",
    "    if(path[i-1][0]==path[i][0]):\n",
    "      if(path[i-1][1]>path[i][1]):\n",
    "        short_actions.append(4)\n",
    "      if(path[i-1][1]<path[i][1]):\n",
    "        short_actions.append(2)\n",
    "\n",
    "    if(path[i-1][1]==path[i][1]):\n",
    "      if(path[i-1][0]>path[i][0]):\n",
    "        short_actions.append(1)\n",
    "      if(path[i-1][0]<path[i][0]):\n",
    "        short_actions.append(3)\n",
    "  return short_actions\n",
    "# ///////////////////////////////////////////////////////////////////////////////////\n",
    "update_out_put_map=[]\n",
    "def operate(actions,original_listt,path):\n",
    "    map =[[element for element in row] for row in original_list]\n",
    "    start, goal = find_start_and_goal(map)\n",
    "    # sequence_of_movements = [2,1,3,2,2,1,3,3,1,2]\n",
    "    sequence_of_movements=actions\n",
    "    initialize_map=[[element for element in row] for row in map]\n",
    "    initialize_map=initialize(initialize_map)\n",
    "    initialize_map = apply_sequence_of_movements(map, sequence_of_movements,initialize_map,start)\n",
    "    path=ids_shortest_path(map, start, goal)\n",
    "\n",
    "    if path:\n",
    "        updated_map = update_map_with_path(initialize_map, path)\n",
    "        update_out_put_map.append(updated_map)\n",
    "        # print_map(updated_map)\n",
    "    # else:\n",
    "    # print(\"No path found.\")#--------------in this program there is at least one path there fore this string do not have application\n",
    "    the_shortest_path(path)"
   ],
   "metadata": {
    "id": "OKzQK0lJL_2l",
    "ExecuteTime": {
     "end_time": "2024-04-05T13:30:28.505011Z",
     "start_time": "2024-04-05T13:30:28.477425Z"
    }
   },
   "execution_count": 10,
   "outputs": []
  },
  {
   "cell_type": "code",
   "source": [
    "def get_start_or_end_location(element):\n",
    "  for i in range(len(original_list)):\n",
    "    for j in range(len(original_list[i])):\n",
    "      if original_list[i][j]==element:\n",
    "        return(i,j)"
   ],
   "metadata": {
    "id": "uytP4M62qONo",
    "ExecuteTime": {
     "end_time": "2024-04-05T13:30:28.515958Z",
     "start_time": "2024-04-05T13:30:28.507009Z"
    }
   },
   "execution_count": 11,
   "outputs": []
  },
  {
   "cell_type": "code",
   "source": [
    "#-------------------------------------------------------> outPut\n",
    "find_food=[]\n",
    "find_food.append(find_food_path())\n",
    "# print(f\"Coordinates of the starting point :\\n{get_start_or_end_location('a')}\")\n",
    "# print(f\"The coordinates of the place of food :\\n{get_start_or_end_location('f')}\")\n",
    "# print(f\"the number of step to find path using 'bruth_forts' mehthod :\\n{count_number_of_Step(actions)}\")\n",
    "# print(f\"The list consists of the selected coordinate and motion pairs:\\n{find_food} :\")\n",
    "# find_food_path()\n",
    "operate(actions,original_list,path)"
   ],
   "metadata": {
    "id": "nWESgGBtwAYU",
    "colab": {
     "base_uri": "https://localhost:8080/"
    },
    "outputId": "f850ae91-b1d8-43d9-e5f6-1e0097522b9a"
   },
   "execution_count": null,
   "outputs": []
  },
  {
   "cell_type": "code",
   "outputs": [],
   "source": [
    "def write_out_put_Map_two_list(map):\n",
    "    with open('output.txt', 'a') as file:\n",
    "        file.truncate(0)\n",
    "        file.seek(0)\n",
    "        for sublist in map:\n",
    "            file.write(''.join(sublist)+ '\\n')"
   ],
   "metadata": {
    "collapsed": false,
    "ExecuteTime": {
     "end_time": "2024-04-05T13:30:28.541005Z",
     "start_time": "2024-04-05T13:30:28.533609Z"
    }
   },
   "execution_count": 13
  },
  {
   "cell_type": "code",
   "outputs": [],
   "source": [
    "def main():                                                 #multi return\n",
    "    # return get_start_or_end_location('a'),get_start_or_end_location('f'),count_number_of_Step(actions),find_food,count_short[0],combine  ->this line is completer return\n",
    "    return get_start_or_end_location('a'),get_start_or_end_location('f'),count_short[0],combine\n",
    "\n",
    "# write into file that we suppose an agent have memory(بخش امتیازی)\n",
    "write_out_put_Map_two_list(update_out_put_map[0])\n",
    "\n",
    "if __name__ == \"__main__\":\n",
    "     main()\n",
    "        "
   ],
   "metadata": {
    "collapsed": false,
    "ExecuteTime": {
     "end_time": "2024-04-05T13:30:28.552857Z",
     "start_time": "2024-04-05T13:30:28.543003Z"
    }
   },
   "execution_count": 14
  }
 ]
}
